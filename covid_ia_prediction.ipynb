{
 "cells": [
  {
   "cell_type": "markdown",
   "id": "e7cd89f5",
   "metadata": {},
   "source": [
    "# ICU Occupancy Forecast with Prophet (COVID-19, Italy)"
   ]
  },
  {
   "cell_type": "code",
   "execution_count": 1,
   "id": "7164a737",
   "metadata": {},
   "outputs": [],
   "source": [
    "#!pip install prophet\n",
    "#!pip install scikit-learn"
   ]
  },
  {
   "cell_type": "markdown",
   "id": "5b98ad34",
   "metadata": {},
   "source": [
    "## Set - up"
   ]
  },
  {
   "cell_type": "code",
   "execution_count": 2,
   "id": "f4df8d7c",
   "metadata": {},
   "outputs": [
    {
     "name": "stderr",
     "output_type": "stream",
     "text": [
      "C:\\Users\\mathi\\AppData\\Local\\Packages\\PythonSoftwareFoundation.Python.3.12_qbz5n2kfra8p0\\LocalCache\\local-packages\\Python312\\site-packages\\tqdm\\auto.py:21: TqdmWarning: IProgress not found. Please update jupyter and ipywidgets. See https://ipywidgets.readthedocs.io/en/stable/user_install.html\n",
      "  from .autonotebook import tqdm as notebook_tqdm\n",
      "Importing plotly failed. Interactive plots will not work.\n"
     ]
    }
   ],
   "source": [
    "\n",
    "import pandas as pd\n",
    "import numpy as np\n",
    "import matplotlib.pyplot as plt\n",
    "from prophet import Prophet\n",
    "from sklearn.metrics import mean_absolute_error, mean_absolute_percentage_error"
   ]
  },
  {
   "cell_type": "markdown",
   "id": "f53eb82a",
   "metadata": {},
   "source": [
    "## Parameters"
   ]
  },
  {
   "cell_type": "code",
   "execution_count": 24,
   "id": "f349dabc",
   "metadata": {},
   "outputs": [],
   "source": [
    "URL_DATA   = (\"https://raw.githubusercontent.com/pcm-dpc/COVID-19/\"\n",
    "              \"master/dati-regioni/dpc-covid19-ita-regioni.csv\")\n",
    "\n",
    "USE_REGION = True                       # False ➜ aggregate Italy\n",
    "REGIONE    = \"Lombardia\"                # used only if USE_REGION = True\n",
    "POSTI_TI   = 1200                       # ICU bed capacity for the region\n",
    "HORIZON    = 120                         # forecast horizon (days)\n",
    "\n",
    "LAG_POS    = 14#11#12#11#18#10                         # days between positives ➜ ICU stock\n",
    "LAG_ING    = 8#6#9#7                          # days between ICU admissions ➜ stock\n",
    "ROLL_WIN   = 3                          # rolling median window for smoothing"
   ]
  },
  {
   "cell_type": "markdown",
   "id": "82686a46",
   "metadata": {},
   "source": [
    "## Data"
   ]
  },
  {
   "cell_type": "code",
   "execution_count": 4,
   "id": "7960f17d",
   "metadata": {},
   "outputs": [],
   "source": [
    "df = pd.read_csv(URL_DATA, parse_dates=[\"data\"]).sort_values(\"data\")\n",
    "\n",
    "if USE_REGION:\n",
    "    df = df.query(\"denominazione_regione == @REGIONE\").copy()\n",
    "else:                                   # aggregate over Italy\n",
    "    df = (df.groupby(\"data\", as_index=False)\n",
    "            .agg({\"terapia_intensiva\": \"sum\",\n",
    "                  \"nuovi_positivi\": \"sum\",\n",
    "                  \"ingressi_terapia_intensiva\": \"sum\"}))\n",
    "    REGIONE = \"Italia\"\n",
    "    POSTI_TI = int(df[\"terapia_intensiva\"].max() * 1.3)  # rough cap"
   ]
  },
  {
   "cell_type": "code",
   "execution_count": 5,
   "id": "5f2f1a0d",
   "metadata": {},
   "outputs": [],
   "source": [
    "#df.sort_values(\"data\", ascending=False).head()"
   ]
  },
  {
   "cell_type": "markdown",
   "id": "e67f4e06",
   "metadata": {},
   "source": [
    "## Pre-processing"
   ]
  },
  {
   "cell_type": "code",
   "execution_count": 6,
   "id": "27968619",
   "metadata": {},
   "outputs": [],
   "source": [
    "df = df.rename(columns={\"data\": \"ds\"})\n",
    "df[\"y\"] = (df[\"terapia_intensiva\"]\n",
    "             .rolling(ROLL_WIN, center=True)\n",
    "             .median()\n",
    "             .bfill())"
   ]
  },
  {
   "cell_type": "code",
   "execution_count": 7,
   "id": "7ec64931",
   "metadata": {},
   "outputs": [],
   "source": [
    "#df.head()"
   ]
  },
  {
   "cell_type": "code",
   "execution_count": 8,
   "id": "47160168",
   "metadata": {},
   "outputs": [],
   "source": [
    "\n",
    "\n",
    "# Lagged regressors\n",
    "df[f\"nuovi_pos_lag{LAG_POS}\"]    = df[\"nuovi_positivi\"].shift(LAG_POS)\n",
    "df[f\"ingressi_ti_lag{LAG_ING}\"]  = df[\"ingressi_terapia_intensiva\"].shift(LAG_ING)\n",
    "df[f\"ricoverati_con_sintomi_lag{LAG_ING}\"]  = df[\"ricoverati_con_sintomi\"].shift(LAG_ING)\n",
    "\n",
    "df[\"positivi_lag\"]=df[\"totale_positivi\"].shift(LAG_POS)\n",
    "df[\"ingressi_lag\"]=df[\"ingressi_terapia_intensiva\"].shift(LAG_ING)\n",
    "df_model = df[[\"ds\", \"terapia_intensiva\", \"positivi_lag\", \"ingressi_lag\"]].copy()\n",
    "df_model = df_model.rename(columns={\"data\": \"ds\", \"terapia_intensiva\": \"y\"})\n",
    "df_model[\"cap\"] = POSTI_TI\n",
    "df_model = df_model.dropna()"
   ]
  },
  {
   "cell_type": "code",
   "execution_count": 9,
   "id": "1b5e29eb",
   "metadata": {},
   "outputs": [],
   "source": [
    "df[\"cap\"]   = POSTI_TI           # upper bound for logistic growth\n",
    "df[\"floor\"] = 0\n",
    "df = df[[\"ds\", \"y\", f\"nuovi_pos_lag{LAG_POS}\", f\"ingressi_ti_lag{LAG_ING}\", f\"ricoverati_con_sintomi_lag{LAG_ING}\", \"cap\", \"floor\", \"nuovi_positivi\", \"ingressi_terapia_intensiva\", \"ricoverati_con_sintomi\"]]\n",
    "df = df.dropna().reset_index(drop=True)"
   ]
  },
  {
   "cell_type": "code",
   "execution_count": 10,
   "id": "fe7b8151",
   "metadata": {},
   "outputs": [
    {
     "data": {
      "text/html": [
       "<div>\n",
       "<style scoped>\n",
       "    .dataframe tbody tr th:only-of-type {\n",
       "        vertical-align: middle;\n",
       "    }\n",
       "\n",
       "    .dataframe tbody tr th {\n",
       "        vertical-align: top;\n",
       "    }\n",
       "\n",
       "    .dataframe thead th {\n",
       "        text-align: right;\n",
       "    }\n",
       "</style>\n",
       "<table border=\"1\" class=\"dataframe\">\n",
       "  <thead>\n",
       "    <tr style=\"text-align: right;\">\n",
       "      <th></th>\n",
       "      <th>ds</th>\n",
       "      <th>y</th>\n",
       "      <th>nuovi_pos_lag11</th>\n",
       "      <th>ingressi_ti_lag6</th>\n",
       "      <th>ricoverati_con_sintomi_lag6</th>\n",
       "      <th>cap</th>\n",
       "      <th>floor</th>\n",
       "      <th>nuovi_positivi</th>\n",
       "      <th>ingressi_terapia_intensiva</th>\n",
       "      <th>ricoverati_con_sintomi</th>\n",
       "    </tr>\n",
       "  </thead>\n",
       "  <tbody>\n",
       "    <tr>\n",
       "      <th>1490</th>\n",
       "      <td>2025-01-07 17:00:00</td>\n",
       "      <td>4.0</td>\n",
       "      <td>31.0</td>\n",
       "      <td>0.0</td>\n",
       "      <td>77.0</td>\n",
       "      <td>1200</td>\n",
       "      <td>0</td>\n",
       "      <td>39</td>\n",
       "      <td>0.0</td>\n",
       "      <td>98</td>\n",
       "    </tr>\n",
       "    <tr>\n",
       "      <th>1489</th>\n",
       "      <td>2025-01-06 17:00:00</td>\n",
       "      <td>4.0</td>\n",
       "      <td>13.0</td>\n",
       "      <td>1.0</td>\n",
       "      <td>86.0</td>\n",
       "      <td>1200</td>\n",
       "      <td>0</td>\n",
       "      <td>32</td>\n",
       "      <td>0.0</td>\n",
       "      <td>100</td>\n",
       "    </tr>\n",
       "    <tr>\n",
       "      <th>1488</th>\n",
       "      <td>2025-01-05 17:00:00</td>\n",
       "      <td>4.0</td>\n",
       "      <td>55.0</td>\n",
       "      <td>0.0</td>\n",
       "      <td>75.0</td>\n",
       "      <td>1200</td>\n",
       "      <td>0</td>\n",
       "      <td>46</td>\n",
       "      <td>0.0</td>\n",
       "      <td>98</td>\n",
       "    </tr>\n",
       "    <tr>\n",
       "      <th>1487</th>\n",
       "      <td>2025-01-04 17:00:00</td>\n",
       "      <td>5.0</td>\n",
       "      <td>88.0</td>\n",
       "      <td>0.0</td>\n",
       "      <td>74.0</td>\n",
       "      <td>1200</td>\n",
       "      <td>0</td>\n",
       "      <td>72</td>\n",
       "      <td>1.0</td>\n",
       "      <td>96</td>\n",
       "    </tr>\n",
       "    <tr>\n",
       "      <th>1486</th>\n",
       "      <td>2025-01-03 17:00:00</td>\n",
       "      <td>5.0</td>\n",
       "      <td>31.0</td>\n",
       "      <td>0.0</td>\n",
       "      <td>52.0</td>\n",
       "      <td>1200</td>\n",
       "      <td>0</td>\n",
       "      <td>88</td>\n",
       "      <td>1.0</td>\n",
       "      <td>86</td>\n",
       "    </tr>\n",
       "  </tbody>\n",
       "</table>\n",
       "</div>"
      ],
      "text/plain": [
       "                      ds    y  nuovi_pos_lag11  ingressi_ti_lag6  \\\n",
       "1490 2025-01-07 17:00:00  4.0             31.0               0.0   \n",
       "1489 2025-01-06 17:00:00  4.0             13.0               1.0   \n",
       "1488 2025-01-05 17:00:00  4.0             55.0               0.0   \n",
       "1487 2025-01-04 17:00:00  5.0             88.0               0.0   \n",
       "1486 2025-01-03 17:00:00  5.0             31.0               0.0   \n",
       "\n",
       "      ricoverati_con_sintomi_lag6   cap  floor  nuovi_positivi  \\\n",
       "1490                         77.0  1200      0              39   \n",
       "1489                         86.0  1200      0              32   \n",
       "1488                         75.0  1200      0              46   \n",
       "1487                         74.0  1200      0              72   \n",
       "1486                         52.0  1200      0              88   \n",
       "\n",
       "      ingressi_terapia_intensiva  ricoverati_con_sintomi  \n",
       "1490                         0.0                      98  \n",
       "1489                         0.0                     100  \n",
       "1488                         0.0                      98  \n",
       "1487                         1.0                      96  \n",
       "1486                         1.0                      86  "
      ]
     },
     "execution_count": 10,
     "metadata": {},
     "output_type": "execute_result"
    }
   ],
   "source": [
    "df.sort_values(\"ds\", ascending=False).head()"
   ]
  },
  {
   "cell_type": "markdown",
   "id": "642b2ae0",
   "metadata": {},
   "source": [
    "## Model training"
   ]
  },
  {
   "cell_type": "code",
   "execution_count": 11,
   "id": "b3c62a94",
   "metadata": {},
   "outputs": [
    {
     "name": "stderr",
     "output_type": "stream",
     "text": [
      "16:00:04 - cmdstanpy - INFO - Chain [1] start processing\n",
      "16:00:05 - cmdstanpy - INFO - Chain [1] done processing\n"
     ]
    },
    {
     "data": {
      "text/plain": [
       "<prophet.forecaster.Prophet at 0x1d1394252e0>"
      ]
     },
     "execution_count": 11,
     "metadata": {},
     "output_type": "execute_result"
    }
   ],
   "source": [
    "train, test = df.iloc[:-HORIZON], df.iloc[-HORIZON:]\n",
    "\n",
    "m = Prophet(\n",
    "    growth=\"logistic\",\n",
    "    weekly_seasonality=True,\n",
    "    daily_seasonality=False,\n",
    "    yearly_seasonality=False,\n",
    "    seasonality_mode=\"additive\",\n",
    "    changepoint_prior_scale=0.05\n",
    ")\n",
    "\n",
    "m.add_regressor(f\"nuovi_pos_lag{LAG_POS}\", prior_scale=5)\n",
    "m.add_regressor(f\"ingressi_ti_lag{LAG_ING}\", prior_scale=5)\n",
    "m.add_regressor(f\"ricoverati_con_sintomi_lag{LAG_ING}\", prior_scale=5)\n",
    "\n",
    "m.fit(train)\n"
   ]
  },
  {
   "cell_type": "markdown",
   "id": "31290e6b",
   "metadata": {},
   "source": [
    "## Prediction"
   ]
  },
  {
   "cell_type": "code",
   "execution_count": null,
   "id": "076405fb",
   "metadata": {},
   "outputs": [
    {
     "name": "stdout",
     "output_type": "stream",
     "text": [
      "                   ds   cap\n",
      "0 2020-12-09 17:00:00  1200\n",
      "1 2020-12-10 17:00:00  1200\n",
      "2 2020-12-11 17:00:00  1200\n",
      "3 2020-12-12 17:00:00  1200\n",
      "4 2020-12-13 17:00:00  1200\n"
     ]
    }
   ],
   "source": [
    "future = m.make_future_dataframe(periods=5000)\n",
    "future[\"cap\"] = POSTI_TI\n",
    "future[\"floor\"]=0\n",
    "print(future.head())\n",
    "\n",
    "#  Re-merge to compute lag features on the extended range\n",
    "full = (pd.concat([df, future], ignore_index=True)\n",
    "          .sort_values(\"ds\")\n",
    "          .reset_index(drop=True))\n",
    "\n",
    "full[f\"nuovi_pos_lag{LAG_POS}\"]   = full[\"nuovi_positivi\"].shift(LAG_POS)\n",
    "full[f\"ingressi_ti_lag{LAG_ING}\"] = full[\"ingressi_terapia_intensiva\"].shift(LAG_ING)\n",
    "full[f\"ricoverati_con_sintomi_lag{LAG_ING}\"] = full[\"ricoverati_con_sintomi\"].shift(LAG_ING)\n",
    "full[\"cap\"]   = POSTI_TI\n",
    "full[\"floor\"] = 0\n",
    "future = full.loc[future.index]    # keep only rows Prophet needs\n",
    "future = future.dropna().reset_index(drop=True)\n",
    "\n",
    "forecast = m.predict(future)\n"
   ]
  },
  {
   "cell_type": "code",
   "execution_count": 13,
   "id": "e8ee6652",
   "metadata": {},
   "outputs": [],
   "source": [
    "#forecast.sort_values(\"ds\", ascending=False).head()"
   ]
  },
  {
   "cell_type": "markdown",
   "id": "2010bba9",
   "metadata": {},
   "source": [
    "## Evaluation"
   ]
  },
  {
   "cell_type": "code",
   "execution_count": 14,
   "id": "cd28678a",
   "metadata": {},
   "outputs": [],
   "source": [
    "pred_df = forecast.merge(df[[\"ds\", \"y\"]], on=\"ds\", how=\"inner\")"
   ]
  },
  {
   "cell_type": "code",
   "execution_count": 15,
   "id": "5638e7df",
   "metadata": {},
   "outputs": [],
   "source": [
    "#pred_df.columns"
   ]
  },
  {
   "cell_type": "code",
   "execution_count": 16,
   "id": "394f7068",
   "metadata": {},
   "outputs": [],
   "source": [
    "y_true  = pred_df[\"y\"].values\n",
    "y_pred  = pred_df[\"yhat\"].values\n"
   ]
  },
  {
   "cell_type": "code",
   "execution_count": 17,
   "id": "6f152520",
   "metadata": {},
   "outputs": [
    {
     "data": {
      "text/plain": [
       "376"
      ]
     },
     "execution_count": 17,
     "metadata": {},
     "output_type": "execute_result"
    }
   ],
   "source": [
    "len(pred_df)"
   ]
  },
  {
   "cell_type": "code",
   "execution_count": 18,
   "id": "1a4f92ad",
   "metadata": {},
   "outputs": [
    {
     "name": "stdout",
     "output_type": "stream",
     "text": [
      "\n",
      "MAE: 22.7\n"
     ]
    }
   ],
   "source": [
    "print(f\"\\nMAE: {mean_absolute_error(y_true, y_pred):.1f}\") #Valuta l’errore tra realtà e previsione "
   ]
  },
  {
   "cell_type": "markdown",
   "id": "92cd701b",
   "metadata": {},
   "source": [
    "# Plot"
   ]
  },
  {
   "cell_type": "code",
   "execution_count": 25,
   "id": "34e9760d",
   "metadata": {},
   "outputs": [
    {
     "data": {
      "image/png": "[encoded data removed]",
      "text/plain": [
       "<Figure size 1200x600 with 1 Axes>"
      ]
     },
     "metadata": {},
     "output_type": "display_data"
    }
   ],
   "source": [
    "plt.figure(figsize=(12, 6))\n",
    "plt.plot(df[\"ds\"], df[\"y\"], label=\"Observed ICU\", linewidth=2)\n",
    "plt.plot(forecast[\"ds\"], forecast[\"yhat\"], label=\"Forecast\", linestyle=\"--\")\n",
    "plt.axvline(test[\"ds\"].min(), color=\"gray\", linestyle=\":\")\n",
    "# Soglia critica\n",
    "plt.axhline((POSTI_TI*85)/100, color='red', linestyle=':', label='Critical threshold 85%')\n",
    "plt.title(f\"ICU occupancy forecast – {REGIONE} - LAG POS={LAG_POS}, LAG ING={LAG_ING}\")\n",
    "plt.ylabel(\"Patients in ICU\")\n",
    "plt.legend()\n",
    "plt.tight_layout()\n",
    "plt.show()"
   ]
  },
  {
   "cell_type": "code",
   "execution_count": 23,
   "id": "46bb388a",
   "metadata": {},
   "outputs": [
    {
     "name": "stderr",
     "output_type": "stream",
     "text": [
      "16:32:12 - cmdstanpy - INFO - Chain [1] start processing\n",
      "16:32:14 - cmdstanpy - INFO - Chain [1] done processing\n",
      "16:32:17 - cmdstanpy - INFO - Chain [1] start processing\n",
      "16:32:19 - cmdstanpy - INFO - Chain [1] done processing\n",
      "16:32:22 - cmdstanpy - INFO - Chain [1] start processing\n",
      "16:32:23 - cmdstanpy - INFO - Chain [1] done processing\n",
      "16:32:26 - cmdstanpy - INFO - Chain [1] start processing\n",
      "16:32:28 - cmdstanpy - INFO - Chain [1] done processing\n",
      "16:32:30 - cmdstanpy - INFO - Chain [1] start processing\n",
      "16:32:32 - cmdstanpy - INFO - Chain [1] done processing\n",
      "16:32:35 - cmdstanpy - INFO - Chain [1] start processing\n",
      "16:32:36 - cmdstanpy - INFO - Chain [1] done processing\n",
      "16:32:39 - cmdstanpy - INFO - Chain [1] start processing\n",
      "16:32:41 - cmdstanpy - INFO - Chain [1] done processing\n",
      "16:32:43 - cmdstanpy - INFO - Chain [1] start processing\n",
      "16:32:45 - cmdstanpy - INFO - Chain [1] done processing\n",
      "16:32:47 - cmdstanpy - INFO - Chain [1] start processing\n",
      "16:32:49 - cmdstanpy - INFO - Chain [1] done processing\n",
      "16:32:51 - cmdstanpy - INFO - Chain [1] start processing\n",
      "16:32:52 - cmdstanpy - INFO - Chain [1] done processing\n",
      "16:32:55 - cmdstanpy - INFO - Chain [1] start processing\n",
      "16:32:56 - cmdstanpy - INFO - Chain [1] done processing\n",
      "16:32:59 - cmdstanpy - INFO - Chain [1] start processing\n",
      "16:33:01 - cmdstanpy - INFO - Chain [1] done processing\n",
      "16:33:04 - cmdstanpy - INFO - Chain [1] start processing\n",
      "16:33:06 - cmdstanpy - INFO - Chain [1] done processing\n",
      "16:33:08 - cmdstanpy - INFO - Chain [1] start processing\n",
      "16:33:09 - cmdstanpy - INFO - Chain [1] done processing\n",
      "16:33:12 - cmdstanpy - INFO - Chain [1] start processing\n",
      "16:33:14 - cmdstanpy - INFO - Chain [1] done processing\n",
      "16:33:16 - cmdstanpy - INFO - Chain [1] start processing\n",
      "16:33:18 - cmdstanpy - INFO - Chain [1] done processing\n",
      "16:33:21 - cmdstanpy - INFO - Chain [1] start processing\n",
      "16:33:23 - cmdstanpy - INFO - Chain [1] done processing\n",
      "16:33:26 - cmdstanpy - INFO - Chain [1] start processing\n",
      "16:33:27 - cmdstanpy - INFO - Chain [1] done processing\n",
      "16:33:30 - cmdstanpy - INFO - Chain [1] start processing\n",
      "16:33:33 - cmdstanpy - INFO - Chain [1] done processing\n",
      "16:33:36 - cmdstanpy - INFO - Chain [1] start processing\n",
      "16:33:38 - cmdstanpy - INFO - Chain [1] done processing\n",
      "16:33:41 - cmdstanpy - INFO - Chain [1] start processing\n",
      "16:33:42 - cmdstanpy - INFO - Chain [1] done processing\n",
      "16:33:45 - cmdstanpy - INFO - Chain [1] start processing\n",
      "16:33:47 - cmdstanpy - INFO - Chain [1] done processing\n",
      "16:33:50 - cmdstanpy - INFO - Chain [1] start processing\n",
      "16:33:51 - cmdstanpy - INFO - Chain [1] done processing\n",
      "16:33:54 - cmdstanpy - INFO - Chain [1] start processing\n",
      "16:33:55 - cmdstanpy - INFO - Chain [1] done processing\n",
      "16:33:58 - cmdstanpy - INFO - Chain [1] start processing\n",
      "16:33:59 - cmdstanpy - INFO - Chain [1] done processing\n",
      "16:34:02 - cmdstanpy - INFO - Chain [1] start processing\n",
      "16:34:03 - cmdstanpy - INFO - Chain [1] done processing\n",
      "16:34:06 - cmdstanpy - INFO - Chain [1] start processing\n",
      "16:34:08 - cmdstanpy - INFO - Chain [1] done processing\n",
      "16:34:10 - cmdstanpy - INFO - Chain [1] start processing\n",
      "16:34:12 - cmdstanpy - INFO - Chain [1] done processing\n",
      "16:34:14 - cmdstanpy - INFO - Chain [1] start processing\n",
      "16:34:16 - cmdstanpy - INFO - Chain [1] done processing\n",
      "16:34:19 - cmdstanpy - INFO - Chain [1] start processing\n",
      "16:34:20 - cmdstanpy - INFO - Chain [1] done processing\n",
      "16:34:22 - cmdstanpy - INFO - Chain [1] start processing\n",
      "16:34:24 - cmdstanpy - INFO - Chain [1] done processing\n",
      "16:34:26 - cmdstanpy - INFO - Chain [1] start processing\n",
      "16:34:27 - cmdstanpy - INFO - Chain [1] done processing\n",
      "16:34:30 - cmdstanpy - INFO - Chain [1] start processing\n",
      "16:34:32 - cmdstanpy - INFO - Chain [1] done processing\n",
      "16:34:34 - cmdstanpy - INFO - Chain [1] start processing\n",
      "16:34:35 - cmdstanpy - INFO - Chain [1] done processing\n",
      "16:34:38 - cmdstanpy - INFO - Chain [1] start processing\n",
      "16:34:39 - cmdstanpy - INFO - Chain [1] done processing\n",
      "16:34:42 - cmdstanpy - INFO - Chain [1] start processing\n",
      "16:34:44 - cmdstanpy - INFO - Chain [1] done processing\n",
      "16:34:46 - cmdstanpy - INFO - Chain [1] start processing\n",
      "16:34:48 - cmdstanpy - INFO - Chain [1] done processing\n",
      "16:34:51 - cmdstanpy - INFO - Chain [1] start processing\n",
      "16:34:52 - cmdstanpy - INFO - Chain [1] done processing\n",
      "16:34:55 - cmdstanpy - INFO - Chain [1] start processing\n",
      "16:34:57 - cmdstanpy - INFO - Chain [1] done processing\n",
      "16:35:00 - cmdstanpy - INFO - Chain [1] start processing\n",
      "16:35:01 - cmdstanpy - INFO - Chain [1] done processing\n",
      "16:35:04 - cmdstanpy - INFO - Chain [1] start processing\n",
      "16:35:05 - cmdstanpy - INFO - Chain [1] done processing\n",
      "16:35:08 - cmdstanpy - INFO - Chain [1] start processing\n",
      "16:35:09 - cmdstanpy - INFO - Chain [1] done processing\n",
      "16:35:11 - cmdstanpy - INFO - Chain [1] start processing\n",
      "16:35:13 - cmdstanpy - INFO - Chain [1] done processing\n",
      "16:35:16 - cmdstanpy - INFO - Chain [1] start processing\n",
      "16:35:17 - cmdstanpy - INFO - Chain [1] done processing\n",
      "16:35:19 - cmdstanpy - INFO - Chain [1] start processing\n",
      "16:35:21 - cmdstanpy - INFO - Chain [1] done processing\n",
      "16:35:23 - cmdstanpy - INFO - Chain [1] start processing\n",
      "16:35:25 - cmdstanpy - INFO - Chain [1] done processing\n",
      "16:35:27 - cmdstanpy - INFO - Chain [1] start processing\n",
      "16:35:29 - cmdstanpy - INFO - Chain [1] done processing\n",
      "16:35:32 - cmdstanpy - INFO - Chain [1] start processing\n",
      "16:35:33 - cmdstanpy - INFO - Chain [1] done processing\n",
      "16:35:36 - cmdstanpy - INFO - Chain [1] start processing\n",
      "16:35:38 - cmdstanpy - INFO - Chain [1] done processing\n",
      "16:35:40 - cmdstanpy - INFO - Chain [1] start processing\n",
      "16:35:40 - cmdstanpy - INFO - Chain [1] done processing\n",
      "16:35:43 - cmdstanpy - INFO - Chain [1] start processing\n",
      "16:35:45 - cmdstanpy - INFO - Chain [1] done processing\n",
      "16:35:47 - cmdstanpy - INFO - Chain [1] start processing\n",
      "16:35:49 - cmdstanpy - INFO - Chain [1] done processing\n",
      "16:35:51 - cmdstanpy - INFO - Chain [1] start processing\n",
      "16:35:53 - cmdstanpy - INFO - Chain [1] done processing\n",
      "16:35:56 - cmdstanpy - INFO - Chain [1] start processing\n",
      "16:35:57 - cmdstanpy - INFO - Chain [1] done processing\n",
      "16:36:00 - cmdstanpy - INFO - Chain [1] start processing\n",
      "16:36:02 - cmdstanpy - INFO - Chain [1] done processing\n",
      "16:36:04 - cmdstanpy - INFO - Chain [1] start processing\n",
      "16:36:06 - cmdstanpy - INFO - Chain [1] done processing\n",
      "16:36:08 - cmdstanpy - INFO - Chain [1] start processing\n",
      "16:36:09 - cmdstanpy - INFO - Chain [1] done processing\n",
      "16:36:12 - cmdstanpy - INFO - Chain [1] start processing\n",
      "16:36:14 - cmdstanpy - INFO - Chain [1] done processing\n",
      "16:36:16 - cmdstanpy - INFO - Chain [1] start processing\n",
      "16:36:18 - cmdstanpy - INFO - Chain [1] done processing\n",
      "16:36:21 - cmdstanpy - INFO - Chain [1] start processing\n",
      "16:36:23 - cmdstanpy - INFO - Chain [1] done processing\n",
      "16:36:25 - cmdstanpy - INFO - Chain [1] start processing\n",
      "16:36:26 - cmdstanpy - INFO - Chain [1] done processing\n",
      "16:36:29 - cmdstanpy - INFO - Chain [1] start processing\n",
      "16:36:30 - cmdstanpy - INFO - Chain [1] done processing\n",
      "16:36:33 - cmdstanpy - INFO - Chain [1] start processing\n",
      "16:36:35 - cmdstanpy - INFO - Chain [1] done processing\n",
      "16:36:38 - cmdstanpy - INFO - Chain [1] start processing\n",
      "16:36:39 - cmdstanpy - INFO - Chain [1] done processing\n",
      "16:36:42 - cmdstanpy - INFO - Chain [1] start processing\n",
      "16:36:44 - cmdstanpy - INFO - Chain [1] done processing\n",
      "16:36:46 - cmdstanpy - INFO - Chain [1] start processing\n",
      "16:36:48 - cmdstanpy - INFO - Chain [1] done processing\n",
      "16:36:50 - cmdstanpy - INFO - Chain [1] start processing\n",
      "16:36:52 - cmdstanpy - INFO - Chain [1] done processing\n",
      "16:36:54 - cmdstanpy - INFO - Chain [1] start processing\n",
      "16:36:55 - cmdstanpy - INFO - Chain [1] done processing\n",
      "16:36:58 - cmdstanpy - INFO - Chain [1] start processing\n",
      "16:36:58 - cmdstanpy - INFO - Chain [1] done processing\n",
      "16:37:01 - cmdstanpy - INFO - Chain [1] start processing\n",
      "16:37:02 - cmdstanpy - INFO - Chain [1] done processing\n",
      "16:37:05 - cmdstanpy - INFO - Chain [1] start processing\n",
      "16:37:07 - cmdstanpy - INFO - Chain [1] done processing\n",
      "16:37:09 - cmdstanpy - INFO - Chain [1] start processing\n",
      "16:37:11 - cmdstanpy - INFO - Chain [1] done processing\n",
      "16:37:13 - cmdstanpy - INFO - Chain [1] start processing\n",
      "16:37:15 - cmdstanpy - INFO - Chain [1] done processing\n",
      "16:37:18 - cmdstanpy - INFO - Chain [1] start processing\n",
      "16:37:20 - cmdstanpy - INFO - Chain [1] done processing\n",
      "16:37:22 - cmdstanpy - INFO - Chain [1] start processing\n",
      "16:37:25 - cmdstanpy - INFO - Chain [1] done processing\n",
      "16:37:28 - cmdstanpy - INFO - Chain [1] start processing\n",
      "16:37:30 - cmdstanpy - INFO - Chain [1] done processing\n",
      "16:37:32 - cmdstanpy - INFO - Chain [1] start processing\n",
      "16:37:34 - cmdstanpy - INFO - Chain [1] done processing\n"
     ]
    },
    {
     "data": {
      "text/html": [
       "<div>\n",
       "<style scoped>\n",
       "    .dataframe tbody tr th:only-of-type {\n",
       "        vertical-align: middle;\n",
       "    }\n",
       "\n",
       "    .dataframe tbody tr th {\n",
       "        vertical-align: top;\n",
       "    }\n",
       "\n",
       "    .dataframe thead th {\n",
       "        text-align: right;\n",
       "    }\n",
       "</style>\n",
       "<table border=\"1\" class=\"dataframe\">\n",
       "  <thead>\n",
       "    <tr style=\"text-align: right;\">\n",
       "      <th></th>\n",
       "      <th>LAG_POS</th>\n",
       "      <th>LAG_ING</th>\n",
       "      <th>MAE</th>\n",
       "    </tr>\n",
       "  </thead>\n",
       "  <tbody>\n",
       "    <tr>\n",
       "      <th>49</th>\n",
       "      <td>12</td>\n",
       "      <td>3</td>\n",
       "      <td>7.122213</td>\n",
       "    </tr>\n",
       "    <tr>\n",
       "      <th>68</th>\n",
       "      <td>14</td>\n",
       "      <td>8</td>\n",
       "      <td>16.992183</td>\n",
       "    </tr>\n",
       "    <tr>\n",
       "      <th>33</th>\n",
       "      <td>9</td>\n",
       "      <td>8</td>\n",
       "      <td>25.917813</td>\n",
       "    </tr>\n",
       "    <tr>\n",
       "      <th>45</th>\n",
       "      <td>11</td>\n",
       "      <td>6</td>\n",
       "      <td>28.017815</td>\n",
       "    </tr>\n",
       "    <tr>\n",
       "      <th>3</th>\n",
       "      <td>5</td>\n",
       "      <td>6</td>\n",
       "      <td>29.172216</td>\n",
       "    </tr>\n",
       "    <tr>\n",
       "      <th>0</th>\n",
       "      <td>5</td>\n",
       "      <td>3</td>\n",
       "      <td>29.368072</td>\n",
       "    </tr>\n",
       "    <tr>\n",
       "      <th>53</th>\n",
       "      <td>12</td>\n",
       "      <td>7</td>\n",
       "      <td>30.580539</td>\n",
       "    </tr>\n",
       "    <tr>\n",
       "      <th>67</th>\n",
       "      <td>14</td>\n",
       "      <td>7</td>\n",
       "      <td>30.588036</td>\n",
       "    </tr>\n",
       "    <tr>\n",
       "      <th>69</th>\n",
       "      <td>14</td>\n",
       "      <td>9</td>\n",
       "      <td>30.621793</td>\n",
       "    </tr>\n",
       "    <tr>\n",
       "      <th>5</th>\n",
       "      <td>5</td>\n",
       "      <td>8</td>\n",
       "      <td>30.630286</td>\n",
       "    </tr>\n",
       "  </tbody>\n",
       "</table>\n",
       "</div>"
      ],
      "text/plain": [
       "    LAG_POS  LAG_ING        MAE\n",
       "49       12        3   7.122213\n",
       "68       14        8  16.992183\n",
       "33        9        8  25.917813\n",
       "45       11        6  28.017815\n",
       "3         5        6  29.172216\n",
       "0         5        3  29.368072\n",
       "53       12        7  30.580539\n",
       "67       14        7  30.588036\n",
       "69       14        9  30.621793\n",
       "5         5        8  30.630286"
      ]
     },
     "metadata": {},
     "output_type": "display_data"
    },
    {
     "name": "stdout",
     "output_type": "stream",
     "text": [
      "Miglior risultato trovato: LAG_POS=12, LAG_ING=3, MAE=7.12\n"
     ]
    },
    {
     "name": "stderr",
     "output_type": "stream",
     "text": [
      "16:37:36 - cmdstanpy - INFO - Chain [1] start processing\n",
      "16:37:36 - cmdstanpy - INFO - Chain [1] done processing\n"
     ]
    },
    {
     "name": "stdout",
     "output_type": "stream",
     "text": [
      "                        y       yhat\n",
      "ds                                  \n",
      "2024-12-08 17:00:00  13.0  25.472935\n",
      "2024-12-09 17:00:00  13.0  32.252253\n",
      "2024-12-10 17:00:00  13.0  42.650165\n",
      "2024-12-11 17:00:00  13.0  36.818486\n",
      "2024-12-12 17:00:00  13.0  22.408215\n",
      "2024-12-13 17:00:00  14.0  30.974820\n",
      "2024-12-14 17:00:00  14.0  31.021928\n",
      "2024-12-15 17:00:00  14.0  42.188392\n",
      "2024-12-16 17:00:00  14.0  43.965806\n",
      "2024-12-17 17:00:00  12.0  54.756477\n",
      "MAE ricalcolato: 35.38797981026473\n"
     ]
    }
   ],
   "source": [
    "from prophet import Prophet\n",
    "from sklearn.metrics import mean_absolute_error\n",
    "import pandas as pd\n",
    "\n",
    "# Intervalli di lag da testare\n",
    "lag_pos_range = range(5, 16)   # es. da 5 a 15 giorni\n",
    "lag_ing_range = range(3, 10)   # es. da 3 a 9 giorni\n",
    "\n",
    "risultati = []\n",
    "\n",
    "for lag_pos in lag_pos_range:\n",
    "    for lag_ing in lag_ing_range:\n",
    "        df_copy = df.copy()\n",
    "\n",
    "        # Calcolo colonne lag\n",
    "        df_copy[\"positivi_lag\"] = df_copy[\"nuovi_positivi\"].shift(lag_pos)\n",
    "        df_copy[\"ingressi_lag\"] = df_copy[\"ingressi_terapia_intensiva\"].shift(lag_ing)\n",
    "        df_copy[\"y\"] = df_copy[\"y\"].rolling(3, center=True).median().bfill()\n",
    "        df_copy[\"cap\"] = df_copy[\"cap\"]\n",
    "        df_copy[\"floor\"] = 0\n",
    "        df_copy[\"ds\"] = df_copy[\"ds\"]\n",
    "\n",
    "        # Costruzione df_model\n",
    "        df_model = df_copy[[\"ds\", \"y\", \"positivi_lag\", \"ingressi_lag\", \"cap\", \"floor\"]].dropna()\n",
    "\n",
    "        # Split: ultimi 30 giorni come test\n",
    "        df_train = df_model[:-30]\n",
    "        df_test = df_model[-30:]\n",
    "\n",
    "        model = Prophet(growth=\"logistic\", daily_seasonality=True, changepoint_prior_scale=0.3)\n",
    "        model.add_regressor(\"positivi_lag\")\n",
    "        model.add_regressor(\"ingressi_lag\")\n",
    "        model.fit(df_train)\n",
    "\n",
    "        # Previsione solo sul test set\n",
    "        future = df_test[[\"ds\", \"positivi_lag\", \"ingressi_lag\", \"cap\", \"floor\"]].copy()\n",
    "        forecast = model.predict(future)\n",
    "\n",
    "        # Calcolo MAE\n",
    "        forecast_test = forecast[forecast[\"ds\"].isin(df_test[\"ds\"])]\n",
    "        prev = forecast_test[[\"ds\", \"yhat\"]].set_index(\"ds\").join(\n",
    "            df_test.set_index(\"ds\")[[\"y\"]], how=\"inner\").dropna()\n",
    "\n",
    "        errore = mean_absolute_error(prev[\"y\"], prev[\"yhat\"])\n",
    "\n",
    "        risultati.append({\n",
    "            \"LAG_POS\": lag_pos,\n",
    "            \"LAG_ING\": lag_ing,\n",
    "            \"MAE\": errore\n",
    "        })\n",
    "        \n",
    "df_train[[\"y\", \"cap\", \"floor\"]].head()\n",
    "\n",
    "# Mostra risultati ordinati\n",
    "df_risultati = pd.DataFrame(risultati).sort_values(\"MAE\")\n",
    "display(df_risultati.head(10))\n",
    "\n",
    "# Trova combinazione con MAE minimo\n",
    "migliore = df_risultati.iloc[0]\n",
    "lag_pos = int(migliore[\"LAG_POS\"])\n",
    "lag_ing = int(migliore[\"LAG_ING\"])\n",
    "print(f\"Miglior risultato trovato: LAG_POS={lag_pos}, LAG_ING={lag_ing}, MAE={migliore['MAE']:.2f}\")\n",
    "\n",
    "# Ricalcola il modello solo per la combinazione ottimale\n",
    "df_copy = df.copy()\n",
    "df_copy[\"positivi_lag\"] = df_copy[\"nuovi_positivi\"].shift(lag_pos)\n",
    "df_copy[\"ingressi_lag\"] = df_copy[\"ingressi_terapia_intensiva\"].shift(lag_ing)\n",
    "df_copy[\"y\"] = df_copy[\"y\"].rolling(3, center=True).median().bfill()\n",
    "df_copy[\"cap\"] = df_copy[\"cap\"]\n",
    "df_copy[\"floor\"] = 0\n",
    "\n",
    "df_model = df_copy[[\"ds\", \"y\", \"positivi_lag\", \"ingressi_lag\", \"cap\", \"floor\"]].dropna()\n",
    "df_train = df_model[:-30]\n",
    "df_test = df_model[-30:]\n",
    "model = Prophet(growth=\"logistic\", daily_seasonality=True, changepoint_prior_scale=0.3)\n",
    "model.add_regressor(\"positivi_lag\")\n",
    "model.add_regressor(\"ingressi_lag\")\n",
    "model.fit(df_train)\n",
    "\n",
    "forecast_test = forecast[forecast[\"ds\"].isin(df_test[\"ds\"])]\n",
    "prev = forecast_test[[\"ds\", \"yhat\"]].set_index(\"ds\").join(\n",
    "    df_test.set_index(\"ds\")[[\"y\"]], how=\"inner\").dropna()\n",
    "\n",
    "# Stampa risultati\n",
    "print(prev[[\"y\", \"yhat\"]].head(10))\n",
    "print(\"MAE ricalcolato:\", mean_absolute_error(prev[\"y\"], prev[\"yhat\"]))"
   ]
  }
 ],
 "metadata": {
  "kernelspec": {
   "display_name": "Python 3",
   "language": "python",
   "name": "python3"
  },
  "language_info": {
   "codemirror_mode": {
    "name": "ipython",
    "version": 3
   },
   "file_extension": ".py",
   "mimetype": "text/x-python",
   "name": "python",
   "nbconvert_exporter": "python",
   "pygments_lexer": "ipython3",
   "version": "3.12.10"
  }
 },
 "nbformat": 4,
 "nbformat_minor": 5
}
